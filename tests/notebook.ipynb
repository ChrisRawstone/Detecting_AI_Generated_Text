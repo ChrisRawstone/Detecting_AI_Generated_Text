{
 "cells": [
  {
   "cell_type": "code",
   "execution_count": 2,
   "metadata": {},
   "outputs": [],
   "source": [
    "import torch\n",
    "import pytest\n",
    "from unittest.mock import patch\n",
    "from hydra import initialize, compose\n",
    "import sys\n",
    "from mypaths import PROJECT_ROOT\n",
    "import os\n",
    "#from train_model import main"
   ]
  },
  {
   "cell_type": "code",
   "execution_count": 3,
   "metadata": {},
   "outputs": [],
   "source": [
    "from omegaconf import DictConfig, OmegaConf\n",
    "import hydra"
   ]
  },
  {
   "cell_type": "code",
   "execution_count": 4,
   "metadata": {},
   "outputs": [
    {
     "data": {
      "text/plain": [
       "'/Users/jasmink.j.thari/Library/CloudStorage/OneDrive-DanmarksTekniskeUniversitet/MSc HCAI/1.Sem/MLOps/Detecting_AI_Generated_Text/tests'"
      ]
     },
     "execution_count": 4,
     "metadata": {},
     "output_type": "execute_result"
    }
   ],
   "source": [
    "sys.path.append(os.path.join(PROJECT_ROOT, 'src'))\n",
    "os.getcwd()"
   ]
  },
  {
   "cell_type": "code",
   "execution_count": 11,
   "metadata": {},
   "outputs": [],
   "source": [
    "def test_model_run():\n",
    "    print('heeeejfngjkergnjkeraw')\n",
    "    print(os.getcwd())\n",
    "    cfg = OmegaConf.load(\"../src/config/default_config.yaml\")\n",
    "    print(cfg)\n",
    "    print(cfg.experiment)\n",
    "    #train(config)"
   ]
  },
  {
   "cell_type": "code",
   "execution_count": 12,
   "metadata": {},
   "outputs": [
    {
     "name": "stdout",
     "output_type": "stream",
     "text": [
      "heeeejfngjkergnjkeraw\n",
      "/Users/jasmink.j.thari/Library/CloudStorage/OneDrive-DanmarksTekniskeUniversitet/MSc HCAI/1.Sem/MLOps/Detecting_AI_Generated_Text/tests\n",
      "{'defaults': [{'experiment': 'debug_hparams'}, '_self_'], 'hydra': {'run': {'dir': './models/${now:%Y-%m-%d}/${now:%H-%M-%S}'}}, 'experiment': {'timestamp': '${now:%Y-%m-%d}/${now:%H-%M-%S}'}}\n",
      "{'timestamp': '${now:%Y-%m-%d}/${now:%H-%M-%S}'}\n"
     ]
    }
   ],
   "source": [
    "test_model_run()"
   ]
  }
 ],
 "metadata": {
  "kernelspec": {
   "display_name": "mlops",
   "language": "python",
   "name": "python3"
  },
  "language_info": {
   "codemirror_mode": {
    "name": "ipython",
    "version": 3
   },
   "file_extension": ".py",
   "mimetype": "text/x-python",
   "name": "python",
   "nbconvert_exporter": "python",
   "pygments_lexer": "ipython3",
   "version": "3.11.0"
  }
 },
 "nbformat": 4,
 "nbformat_minor": 2
}
